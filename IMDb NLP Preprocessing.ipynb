{
 "cells": [
  {
   "cell_type": "markdown",
   "id": "5922bd53-d739-4c4f-b8e5-eeb3a3921b45",
   "metadata": {},
   "source": [
    "### Q1. What is NLP and why is it important in today's AI ecosystem?\n",
    "**Write your answer in 4–5 lines with at least one real-world application example.**\n",
    "\n",
    "Natural Language Processing (NLP) is a branch of artificial intelligence that enables machines to understand, interpret, and generate human language. It bridges the gap between human communication and computer understanding. NLP is crucial in today's AI ecosystem because it powers applications like chatbots, voice assistants, language translation, and sentiment analysis. For example, Google Translate uses NLP to convert text from one language to another with impressive accuracy.\n",
    "\n",
    "### Q2. Differentiate between the following:\n",
    "**Tokenization vs Sentence Segmentation**\n",
    "| Concept                   | Description                                                                                                                       |\n",
    "| ------------------------- | --------------------------------------------------------------------------------------------------------------------------------- |\n",
    "| **Tokenization**          | Breaking text into smaller units like words or phrases (tokens). Example: `\"I love NLP\"` → `['I', 'love', 'NLP']`.                |\n",
    "| **Sentence Segmentation** | Splitting a paragraph or document into individual sentences. Example: `\"I love NLP. It's fun.\"` → `[\"I love NLP.\", \"It's fun.\"]`. |\n",
    "\n",
    "**Stemming vs Lemmatization**\n",
    "| Concept           | Description                                                                                                                    |\n",
    "| ----------------- | ------------------------------------------------------------------------------------------------------------------------------ |\n",
    "| **Stemming**      | Reduces words to their base or root form by chopping off suffixes, often leading to non-words. Example: `\"running\"` → `\"run\"`. |\n",
    "| **Lemmatization** | Converts words to their dictionary (lemma) form using context and grammar. Example: `\"better\"` → `\"good\"`.                     |\n",
    "\n",
    "\n",
    "**Stopwords removal vs Punctuation removal**\n",
    "| Concept                 | Description                                                                            |\n",
    "| ----------------------- | -------------------------------------------------------------------------------------- |\n",
    "| **Stopwords Removal**   | Removes common words that carry little meaning in analysis (e.g., \"the\", \"is\", \"and\"). |\n",
    "| **Punctuation Removal** | Deletes punctuation marks like commas, periods, and question marks from the text.      |\n",
    "\n",
    "\n",
    "### Q3. List any 5 real-world applications of NLP and specify what NLP task is performed in each.\n",
    "**Example: Chatbot – Named Entity Recognition (NER), Sentiment Analysis – Classification**\n",
    "| Application                                      | NLP Task Performed                               |\n",
    "| ------------------------------------------------ | ------------------------------------------------ |\n",
    "| **Chatbot (e.g., Customer Support)**             | Named Entity Recognition (NER), Intent Detection |\n",
    "| **Sentiment Analysis (e.g., Product Reviews)**   | Text Classification                              |\n",
    "| **Machine Translation (e.g., Google Translate)** | Sequence-to-Sequence Modeling                    |\n",
    "| **Voice Assistants (e.g., Alexa, Siri)**         | Speech Recognition, Intent Recognition           |\n",
    "| **Spam Detection (e.g., Email Filters)**         | Text Classification                              |\n"
   ]
  },
  {
   "cell_type": "code",
   "execution_count": 8,
   "id": "8caa98df-bc51-4450-b419-7ab19bcc6906",
   "metadata": {},
   "outputs": [
    {
     "name": "stderr",
     "output_type": "stream",
     "text": [
      "[nltk_data] Downloading package punkt to C:\\Users\\Hasti\n",
      "[nltk_data]     Gohel\\AppData\\Roaming\\nltk_data...\n",
      "[nltk_data]   Package punkt is already up-to-date!\n"
     ]
    },
    {
     "data": {
      "text/plain": [
       "True"
      ]
     },
     "execution_count": 8,
     "metadata": {},
     "output_type": "execute_result"
    }
   ],
   "source": [
    "nltk.download('punkt')"
   ]
  },
  {
   "cell_type": "code",
   "execution_count": 12,
   "id": "12ada396-fe30-4f3a-b115-3c4be1f1a92a",
   "metadata": {},
   "outputs": [
    {
     "name": "stderr",
     "output_type": "stream",
     "text": [
      "[nltk_data] Downloading package stopwords to C:\\Users\\Hasti\n",
      "[nltk_data]     Gohel\\AppData\\Roaming\\nltk_data...\n",
      "[nltk_data]   Package stopwords is already up-to-date!\n"
     ]
    },
    {
     "data": {
      "text/plain": [
       "True"
      ]
     },
     "execution_count": 12,
     "metadata": {},
     "output_type": "execute_result"
    }
   ],
   "source": [
    "nltk.download('stopwords')"
   ]
  },
  {
   "cell_type": "code",
   "execution_count": 16,
   "id": "fa36072c-7c97-4272-8bdc-7e049986740d",
   "metadata": {},
   "outputs": [
    {
     "name": "stderr",
     "output_type": "stream",
     "text": [
      "[nltk_data] Downloading package wordnet to C:\\Users\\Hasti\n",
      "[nltk_data]     Gohel\\AppData\\Roaming\\nltk_data...\n",
      "[nltk_data] Downloading package omw-1.4 to C:\\Users\\Hasti\n",
      "[nltk_data]     Gohel\\AppData\\Roaming\\nltk_data...\n"
     ]
    },
    {
     "data": {
      "text/plain": [
       "True"
      ]
     },
     "execution_count": 16,
     "metadata": {},
     "output_type": "execute_result"
    }
   ],
   "source": [
    "nltk.download('wordnet')\n",
    "nltk.download('omw-1.4')"
   ]
  },
  {
   "cell_type": "code",
   "execution_count": 18,
   "id": "78c4c47e-b447-471f-b301-4f0bab944919",
   "metadata": {},
   "outputs": [],
   "source": [
    "import pandas as pd\n",
    "import nltk\n",
    "import re\n",
    "import string\n",
    "from bs4 import BeautifulSoup\n",
    "import warnings\n",
    "warnings.filterwarnings(\"ignore\")\n",
    "from nltk.tokenize import sent_tokenize, word_tokenize\n",
    "from nltk.corpus import stopwords\n",
    "from nltk.stem import PorterStemmer, WordNetLemmatizer"
   ]
  },
  {
   "cell_type": "markdown",
   "id": "f850cbc0-a431-49fe-b580-632bfb0d445b",
   "metadata": {},
   "source": [
    "### Q4. Load the IMDb dataset and display the first 5 rows. Check for missing values and remove them if any."
   ]
  },
  {
   "cell_type": "code",
   "execution_count": 3,
   "id": "97518ba6-c162-48a4-a9e6-7c3a10124b59",
   "metadata": {},
   "outputs": [
    {
     "name": "stdout",
     "output_type": "stream",
     "text": [
      "First 5 rows of the dataset:\n",
      "                                              review sentiment\n",
      "0  One of the other reviewers has mentioned that ...  positive\n",
      "1  A wonderful little production. <br /><br />The...  positive\n",
      "2  I thought this was a wonderful way to spend ti...  positive\n",
      "3  Basically there's a family where a little boy ...  negative\n",
      "4  Petter Mattei's \"Love in the Time of Money\" is...  positive\n",
      "\n",
      "Missing values in each column:\n",
      "review       0\n",
      "sentiment    0\n",
      "dtype: int64\n"
     ]
    }
   ],
   "source": [
    "df = pd.read_csv(\"IMDB Dataset.csv\")\n",
    "\n",
    "print(\"First 5 rows of the dataset:\")\n",
    "print(df.head())\n",
    "\n",
    "print(\"\\nMissing values in each column:\")\n",
    "print(df.isnull().sum())\n",
    "\n",
    "# as we don't have any null values we do not need to drop it."
   ]
  },
  {
   "cell_type": "markdown",
   "id": "e81a02b1-f03d-44ab-8102-588be9b7f55e",
   "metadata": {},
   "source": [
    "### Q5. Perform the following text preprocessing steps on the “review” column:\n",
    "- Convert all text to lowercase\n",
    "- Remove HTML tags\n",
    "- Remove punctuation\n",
    "- Remove numerical digits\n",
    "- Display sample output for any 2 rows"
   ]
  },
  {
   "cell_type": "code",
   "execution_count": 7,
   "id": "72e24b74-432b-4325-952d-bb0f7b019378",
   "metadata": {},
   "outputs": [
    {
     "name": "stdout",
     "output_type": "stream",
     "text": [
      "Original vs Cleaned Reviews (First 2 Rows):\n",
      "\n",
      "Original: One of the other reviewers has mentioned that after watching just 1 Oz episode you'll be hooked. They are right, as this is exactly what happened with me.<br /><br />The first thing that struck me about Oz was its brutality and unflinching scenes of violence, which set in right from the word GO. Trust me, this is not a show for the faint hearted or timid. This show pulls no punches with regards to drugs, sex or violence. Its is hardcore, in the classic use of the word.<br /><br />It is called OZ as that is the nickname given to the Oswald Maximum Security State Penitentary. It focuses mainly on Emerald City, an experimental section of the prison where all the cells have glass fronts and face inwards, so privacy is not high on the agenda. Em City is home to many..Aryans, Muslims, gangstas, Latinos, Christians, Italians, Irish and more....so scuffles, death stares, dodgy dealings and shady agreements are never far away.<br /><br />I would say the main appeal of the show is due to the fact that it goes where other shows wouldn't dare. Forget pretty pictures painted for mainstream audiences, forget charm, forget romance...OZ doesn't mess around. The first episode I ever saw struck me as so nasty it was surreal, I couldn't say I was ready for it, but as I watched more, I developed a taste for Oz, and got accustomed to the high levels of graphic violence. Not just violence, but injustice (crooked guards who'll be sold out for a nickel, inmates who'll kill on order and get away with it, well mannered, middle class inmates being turned into prison bitches due to their lack of street skills or prison experience) Watching Oz, you may become comfortable with what is uncomfortable viewing....thats if you can get in touch with your darker side.\n",
      "\n",
      "Cleaned : one of the other reviewers has mentioned that after watching just  oz episode youll be hooked they are right as this is exactly what happened with methe first thing that struck me about oz was its brutality and unflinching scenes of violence which set in right from the word go trust me this is not a show for the faint hearted or timid this show pulls no punches with regards to drugs sex or violence its is hardcore in the classic use of the wordit is called oz as that is the nickname given to the oswald maximum security state penitentary it focuses mainly on emerald city an experimental section of the prison where all the cells have glass fronts and face inwards so privacy is not high on the agenda em city is home to manyaryans muslims gangstas latinos christians italians irish and moreso scuffles death stares dodgy dealings and shady agreements are never far awayi would say the main appeal of the show is due to the fact that it goes where other shows wouldnt dare forget pretty pictures painted for mainstream audiences forget charm forget romanceoz doesnt mess around the first episode i ever saw struck me as so nasty it was surreal i couldnt say i was ready for it but as i watched more i developed a taste for oz and got accustomed to the high levels of graphic violence not just violence but injustice crooked guards wholl be sold out for a nickel inmates wholl kill on order and get away with it well mannered middle class inmates being turned into prison bitches due to their lack of street skills or prison experience watching oz you may become comfortable with what is uncomfortable viewingthats if you can get in touch with your darker side\n",
      "\n",
      "================================================================================\n",
      "Original: A wonderful little production. <br /><br />The filming technique is very unassuming- very old-time-BBC fashion and gives a comforting, and sometimes discomforting, sense of realism to the entire piece. <br /><br />The actors are extremely well chosen- Michael Sheen not only \"has got all the polari\" but he has all the voices down pat too! You can truly see the seamless editing guided by the references to Williams' diary entries, not only is it well worth the watching but it is a terrificly written and performed piece. A masterful production about one of the great master's of comedy and his life. <br /><br />The realism really comes home with the little things: the fantasy of the guard which, rather than use the traditional 'dream' techniques remains solid then disappears. It plays on our knowledge and our senses, particularly with the scenes concerning Orton and Halliwell and the sets (particularly of their flat with Halliwell's murals decorating every surface) are terribly well done.\n",
      "\n",
      "Cleaned : a wonderful little production the filming technique is very unassuming very oldtimebbc fashion and gives a comforting and sometimes discomforting sense of realism to the entire piece the actors are extremely well chosen michael sheen not only has got all the polari but he has all the voices down pat too you can truly see the seamless editing guided by the references to williams diary entries not only is it well worth the watching but it is a terrificly written and performed piece a masterful production about one of the great masters of comedy and his life the realism really comes home with the little things the fantasy of the guard which rather than use the traditional dream techniques remains solid then disappears it plays on our knowledge and our senses particularly with the scenes concerning orton and halliwell and the sets particularly of their flat with halliwells murals decorating every surface are terribly well done\n",
      "\n",
      "================================================================================\n"
     ]
    }
   ],
   "source": [
    "def preprocess_text(text):\n",
    "    text = text.lower()\n",
    "    text = BeautifulSoup(text, \"html.parser\").get_text()\n",
    "    text = text.translate(str.maketrans('', '', string.punctuation))\n",
    "    text = re.sub(r'\\d+', '', text)\n",
    "    return text\n",
    "\n",
    "df['clean_review'] = df['review'].apply(preprocess_text)\n",
    "\n",
    "print(\"Original vs Cleaned Reviews (First 2 Rows):\\n\")\n",
    "for i in range(2):\n",
    "    print(f\"Original: {df['review'][i]}\\n\")\n",
    "    print(f\"Cleaned : {df['clean_review'][i]}\\n\")\n",
    "    print(\"=\"*80)"
   ]
  },
  {
   "cell_type": "markdown",
   "id": "2532b31f-1c48-458a-af8c-76f1ce8f9ac3",
   "metadata": {},
   "source": [
    "### Q6. Perform Tokenization on the reviews:\n",
    "- Sentence tokenization (first 2 reviews)\n",
    "- Word tokenization (first 2 reviews)\n",
    "- Print the results clearly"
   ]
  },
  {
   "cell_type": "code",
   "execution_count": 10,
   "id": "0a8f6d5b-ece5-4754-b295-60e89a4371ad",
   "metadata": {},
   "outputs": [
    {
     "name": "stdout",
     "output_type": "stream",
     "text": [
      "\n",
      "--- Review 1 ---\n",
      "Sentence Tokenization:\n",
      "• One of the other reviewers has mentioned that after watching just 1 Oz episode you'll be hooked.\n",
      "• They are right, as this is exactly what happened with me.<br /><br />The first thing that struck me about Oz was its brutality and unflinching scenes of violence, which set in right from the word GO.\n",
      "• Trust me, this is not a show for the faint hearted or timid.\n",
      "• This show pulls no punches with regards to drugs, sex or violence.\n",
      "• Its is hardcore, in the classic use of the word.<br /><br />It is called OZ as that is the nickname given to the Oswald Maximum Security State Penitentary.\n",
      "• It focuses mainly on Emerald City, an experimental section of the prison where all the cells have glass fronts and face inwards, so privacy is not high on the agenda.\n",
      "• Em City is home to many..Aryans, Muslims, gangstas, Latinos, Christians, Italians, Irish and more....so scuffles, death stares, dodgy dealings and shady agreements are never far away.<br /><br />I would say the main appeal of the show is due to the fact that it goes where other shows wouldn't dare.\n",
      "• Forget pretty pictures painted for mainstream audiences, forget charm, forget romance...OZ doesn't mess around.\n",
      "• The first episode I ever saw struck me as so nasty it was surreal, I couldn't say I was ready for it, but as I watched more, I developed a taste for Oz, and got accustomed to the high levels of graphic violence.\n",
      "• Not just violence, but injustice (crooked guards who'll be sold out for a nickel, inmates who'll kill on order and get away with it, well mannered, middle class inmates being turned into prison bitches due to their lack of street skills or prison experience) Watching Oz, you may become comfortable with what is uncomfortable viewing....thats if you can get in touch with your darker side.\n",
      "\n",
      "Word Tokenization:\n",
      "['One', 'of', 'the', 'other', 'reviewers', 'has', 'mentioned', 'that', 'after', 'watching', 'just', '1', 'Oz', 'episode', 'you', \"'ll\", 'be', 'hooked', '.', 'They', 'are', 'right', ',', 'as', 'this', 'is', 'exactly', 'what', 'happened', 'with', 'me.', '<', 'br', '/', '>', '<', 'br', '/', '>', 'The', 'first', 'thing', 'that', 'struck', 'me', 'about', 'Oz', 'was', 'its', 'brutality', 'and', 'unflinching', 'scenes', 'of', 'violence', ',', 'which', 'set', 'in', 'right', 'from', 'the', 'word', 'GO', '.', 'Trust', 'me', ',', 'this', 'is', 'not', 'a', 'show', 'for', 'the', 'faint', 'hearted', 'or', 'timid', '.', 'This', 'show', 'pulls', 'no', 'punches', 'with', 'regards', 'to', 'drugs', ',', 'sex', 'or', 'violence', '.', 'Its', 'is', 'hardcore', ',', 'in', 'the', 'classic', 'use', 'of', 'the', 'word.', '<', 'br', '/', '>', '<', 'br', '/', '>', 'It', 'is', 'called', 'OZ', 'as', 'that', 'is', 'the', 'nickname', 'given', 'to', 'the', 'Oswald', 'Maximum', 'Security', 'State', 'Penitentary', '.', 'It', 'focuses', 'mainly', 'on', 'Emerald', 'City', ',', 'an', 'experimental', 'section', 'of', 'the', 'prison', 'where', 'all', 'the', 'cells', 'have', 'glass', 'fronts', 'and', 'face', 'inwards', ',', 'so', 'privacy', 'is', 'not', 'high', 'on', 'the', 'agenda', '.', 'Em', 'City', 'is', 'home', 'to', 'many', '..', 'Aryans', ',', 'Muslims', ',', 'gangstas', ',', 'Latinos', ',', 'Christians', ',', 'Italians', ',', 'Irish', 'and', 'more', '....', 'so', 'scuffles', ',', 'death', 'stares', ',', 'dodgy', 'dealings', 'and', 'shady', 'agreements', 'are', 'never', 'far', 'away.', '<', 'br', '/', '>', '<', 'br', '/', '>', 'I', 'would', 'say', 'the', 'main', 'appeal', 'of', 'the', 'show', 'is', 'due', 'to', 'the', 'fact', 'that', 'it', 'goes', 'where', 'other', 'shows', 'would', \"n't\", 'dare', '.', 'Forget', 'pretty', 'pictures', 'painted', 'for', 'mainstream', 'audiences', ',', 'forget', 'charm', ',', 'forget', 'romance', '...', 'OZ', 'does', \"n't\", 'mess', 'around', '.', 'The', 'first', 'episode', 'I', 'ever', 'saw', 'struck', 'me', 'as', 'so', 'nasty', 'it', 'was', 'surreal', ',', 'I', 'could', \"n't\", 'say', 'I', 'was', 'ready', 'for', 'it', ',', 'but', 'as', 'I', 'watched', 'more', ',', 'I', 'developed', 'a', 'taste', 'for', 'Oz', ',', 'and', 'got', 'accustomed', 'to', 'the', 'high', 'levels', 'of', 'graphic', 'violence', '.', 'Not', 'just', 'violence', ',', 'but', 'injustice', '(', 'crooked', 'guards', 'who', \"'ll\", 'be', 'sold', 'out', 'for', 'a', 'nickel', ',', 'inmates', 'who', \"'ll\", 'kill', 'on', 'order', 'and', 'get', 'away', 'with', 'it', ',', 'well', 'mannered', ',', 'middle', 'class', 'inmates', 'being', 'turned', 'into', 'prison', 'bitches', 'due', 'to', 'their', 'lack', 'of', 'street', 'skills', 'or', 'prison', 'experience', ')', 'Watching', 'Oz', ',', 'you', 'may', 'become', 'comfortable', 'with', 'what', 'is', 'uncomfortable', 'viewing', '....', 'thats', 'if', 'you', 'can', 'get', 'in', 'touch', 'with', 'your', 'darker', 'side', '.']\n",
      "\n",
      "--- Review 2 ---\n",
      "Sentence Tokenization:\n",
      "• A wonderful little production.\n",
      "• <br /><br />The filming technique is very unassuming- very old-time-BBC fashion and gives a comforting, and sometimes discomforting, sense of realism to the entire piece.\n",
      "• <br /><br />The actors are extremely well chosen- Michael Sheen not only \"has got all the polari\" but he has all the voices down pat too!\n",
      "• You can truly see the seamless editing guided by the references to Williams' diary entries, not only is it well worth the watching but it is a terrificly written and performed piece.\n",
      "• A masterful production about one of the great master's of comedy and his life.\n",
      "• <br /><br />The realism really comes home with the little things: the fantasy of the guard which, rather than use the traditional 'dream' techniques remains solid then disappears.\n",
      "• It plays on our knowledge and our senses, particularly with the scenes concerning Orton and Halliwell and the sets (particularly of their flat with Halliwell's murals decorating every surface) are terribly well done.\n",
      "\n",
      "Word Tokenization:\n",
      "['A', 'wonderful', 'little', 'production', '.', '<', 'br', '/', '>', '<', 'br', '/', '>', 'The', 'filming', 'technique', 'is', 'very', 'unassuming-', 'very', 'old-time-BBC', 'fashion', 'and', 'gives', 'a', 'comforting', ',', 'and', 'sometimes', 'discomforting', ',', 'sense', 'of', 'realism', 'to', 'the', 'entire', 'piece', '.', '<', 'br', '/', '>', '<', 'br', '/', '>', 'The', 'actors', 'are', 'extremely', 'well', 'chosen-', 'Michael', 'Sheen', 'not', 'only', '``', 'has', 'got', 'all', 'the', 'polari', \"''\", 'but', 'he', 'has', 'all', 'the', 'voices', 'down', 'pat', 'too', '!', 'You', 'can', 'truly', 'see', 'the', 'seamless', 'editing', 'guided', 'by', 'the', 'references', 'to', 'Williams', \"'\", 'diary', 'entries', ',', 'not', 'only', 'is', 'it', 'well', 'worth', 'the', 'watching', 'but', 'it', 'is', 'a', 'terrificly', 'written', 'and', 'performed', 'piece', '.', 'A', 'masterful', 'production', 'about', 'one', 'of', 'the', 'great', 'master', \"'s\", 'of', 'comedy', 'and', 'his', 'life', '.', '<', 'br', '/', '>', '<', 'br', '/', '>', 'The', 'realism', 'really', 'comes', 'home', 'with', 'the', 'little', 'things', ':', 'the', 'fantasy', 'of', 'the', 'guard', 'which', ',', 'rather', 'than', 'use', 'the', 'traditional', \"'dream\", \"'\", 'techniques', 'remains', 'solid', 'then', 'disappears', '.', 'It', 'plays', 'on', 'our', 'knowledge', 'and', 'our', 'senses', ',', 'particularly', 'with', 'the', 'scenes', 'concerning', 'Orton', 'and', 'Halliwell', 'and', 'the', 'sets', '(', 'particularly', 'of', 'their', 'flat', 'with', 'Halliwell', \"'s\", 'murals', 'decorating', 'every', 'surface', ')', 'are', 'terribly', 'well', 'done', '.']\n"
     ]
    }
   ],
   "source": [
    "reviews = df['review'].iloc[:2]\n",
    "\n",
    "for i, review in enumerate(reviews):\n",
    "    print(f\"\\n--- Review {i+1} ---\")\n",
    "    \n",
    "    sentences = sent_tokenize(review)\n",
    "    print(\"Sentence Tokenization:\")\n",
    "    for sent in sentences:\n",
    "        print(f\"• {sent}\")\n",
    "\n",
    "    words = word_tokenize(review)\n",
    "    print(\"\\nWord Tokenization:\")\n",
    "    print(words)"
   ]
  },
  {
   "cell_type": "markdown",
   "id": "6a7985f2-d856-448c-ba2f-f5f2504df357",
   "metadata": {},
   "source": [
    "### Q7. Remove Stopwords:\n",
    "- Use NLTK’s stopwords\n",
    "- Show how the review looks before and after stopwords removal (1 example)"
   ]
  },
  {
   "cell_type": "code",
   "execution_count": 13,
   "id": "14ef8c25-0c43-4943-b902-d76c3a56b243",
   "metadata": {},
   "outputs": [
    {
     "name": "stdout",
     "output_type": "stream",
     "text": [
      "🔹 Original Review:\n",
      "\n",
      "One of the other reviewers has mentioned that after watching just 1 Oz episode you'll be hooked. They are right, as this is exactly what happened with me.<br /><br />The first thing that struck me about Oz was its brutality and unflinching scenes of violence, which set in right from the word GO. Trust me, this is not a show for the faint hearted or timid. This show pulls no punches with regards to drugs, sex or violence. Its is hardcore, in the classic use of the word.<br /><br />It is called OZ as that is the nickname given to the Oswald Maximum Security State Penitentary. It focuses mainly on Emerald City, an experimental section of the prison where all the cells have glass fronts and face inwards, so privacy is not high on the agenda. Em City is home to many..Aryans, Muslims, gangstas, Latinos, Christians, Italians, Irish and more....so scuffles, death stares, dodgy dealings and shady agreements are never far away.<br /><br />I would say the main appeal of the show is due to the fact that it goes where other shows wouldn't dare. Forget pretty pictures painted for mainstream audiences, forget charm, forget romance...OZ doesn't mess around. The first episode I ever saw struck me as so nasty it was surreal, I couldn't say I was ready for it, but as I watched more, I developed a taste for Oz, and got accustomed to the high levels of graphic violence. Not just violence, but injustice (crooked guards who'll be sold out for a nickel, inmates who'll kill on order and get away with it, well mannered, middle class inmates being turned into prison bitches due to their lack of street skills or prison experience) Watching Oz, you may become comfortable with what is uncomfortable viewing....thats if you can get in touch with your darker side.\n",
      "\n",
      "🔹 After Stopwords Removal:\n",
      "\n",
      "One reviewers mentioned watching 1 Oz episode 'll hooked . right , exactly happened me. < br / > < br / > first thing struck Oz brutality unflinching scenes violence , set right word GO . Trust , show faint hearted timid . show pulls punches regards drugs , sex violence . hardcore , classic use word. < br / > < br / > called OZ nickname given Oswald Maximum Security State Penitentary . focuses mainly Emerald City , experimental section prison cells glass fronts face inwards , privacy high agenda . Em City home many .. Aryans , Muslims , gangstas , Latinos , Christians , Italians , Irish .... scuffles , death stares , dodgy dealings shady agreements never far away. < br / > < br / > would say main appeal show due fact goes shows would n't dare . Forget pretty pictures painted mainstream audiences , forget charm , forget romance ... OZ n't mess around . first episode ever saw struck nasty surreal , could n't say ready , watched , developed taste Oz , got accustomed high levels graphic violence . violence , injustice ( crooked guards 'll sold nickel , inmates 'll kill order get away , well mannered , middle class inmates turned prison bitches due lack street skills prison experience ) Watching Oz , may become comfortable uncomfortable viewing .... thats get touch darker side .\n"
     ]
    }
   ],
   "source": [
    "review = df['review'][0]\n",
    "tokens = word_tokenize(review)\n",
    "\n",
    "\n",
    "stop_words = set(stopwords.words('english'))\n",
    "filtered_tokens = [word for word in tokens if word.lower() not in stop_words]\n",
    "filtered_review = ' '.join(filtered_tokens)\n",
    "\n",
    "print(\"🔹 Original Review:\\n\")\n",
    "print(review)\n",
    "\n",
    "print(\"\\n🔹 After Stopwords Removal:\\n\")\n",
    "print(filtered_review)"
   ]
  },
  {
   "cell_type": "markdown",
   "id": "06454d08-13e3-4fb0-8935-fc5be20a75ea",
   "metadata": {},
   "source": [
    "### Q8. Apply Stemming using Porter Stemmer on first 5 reviews.\n",
    "- Show before and after for each review."
   ]
  },
  {
   "cell_type": "code",
   "execution_count": 15,
   "id": "2581c499-c4f0-45b3-baef-29ba662142e3",
   "metadata": {},
   "outputs": [
    {
     "name": "stdout",
     "output_type": "stream",
     "text": [
      "\n",
      "🔹 Review 1 - Before:\n",
      "One of the other reviewers has mentioned that after watching just 1 Oz episode you'll be hooked. They are right, as this is exactly what happened with me.<br /><br />The first thing that struck me about Oz was its brutality and unflinching scenes of violence, which set in right from the word GO. Trust me, this is not a show for the faint hearted or timid. This show pulls no punches with regards to drugs, sex or violence. Its is hardcore, in the classic use of the word.<br /><br />It is called OZ as that is the nickname given to the Oswald Maximum Security State Penitentary. It focuses mainly on Emerald City, an experimental section of the prison where all the cells have glass fronts and face inwards, so privacy is not high on the agenda. Em City is home to many..Aryans, Muslims, gangstas, Latinos, Christians, Italians, Irish and more....so scuffles, death stares, dodgy dealings and shady agreements are never far away.<br /><br />I would say the main appeal of the show is due to the fact that it goes where other shows wouldn't dare. Forget pretty pictures painted for mainstream audiences, forget charm, forget romance...OZ doesn't mess around. The first episode I ever saw struck me as so nasty it was surreal, I couldn't say I was ready for it, but as I watched more, I developed a taste for Oz, and got accustomed to the high levels of graphic violence. Not just violence, but injustice (crooked guards who'll be sold out for a nickel, inmates who'll kill on order and get away with it, well mannered, middle class inmates being turned into prison bitches due to their lack of street skills or prison experience) Watching Oz, you may become comfortable with what is uncomfortable viewing....thats if you can get in touch with your darker side.\n",
      "\n",
      "🔸 Review 1 - After Stemming:\n",
      "one of the other review ha mention that after watch just 1 oz episod you 'll be hook . they are right , as thi is exactli what happen with me. < br / > < br / > the first thing that struck me about oz wa it brutal and unflinch scene of violenc , which set in right from the word go . trust me , thi is not a show for the faint heart or timid . thi show pull no punch with regard to drug , sex or violenc . it is hardcor , in the classic use of the word. < br / > < br / > it is call oz as that is the nicknam given to the oswald maximum secur state penitentari . it focus mainli on emerald citi , an experiment section of the prison where all the cell have glass front and face inward , so privaci is not high on the agenda . em citi is home to mani .. aryan , muslim , gangsta , latino , christian , italian , irish and more .... so scuffl , death stare , dodgi deal and shadi agreement are never far away. < br / > < br / > i would say the main appeal of the show is due to the fact that it goe where other show would n't dare . forget pretti pictur paint for mainstream audienc , forget charm , forget romanc ... oz doe n't mess around . the first episod i ever saw struck me as so nasti it wa surreal , i could n't say i wa readi for it , but as i watch more , i develop a tast for oz , and got accustom to the high level of graphic violenc . not just violenc , but injustic ( crook guard who 'll be sold out for a nickel , inmat who 'll kill on order and get away with it , well manner , middl class inmat be turn into prison bitch due to their lack of street skill or prison experi ) watch oz , you may becom comfort with what is uncomfort view .... that if you can get in touch with your darker side .\n",
      "\n",
      "====================================================================================================\n",
      "\n",
      "🔹 Review 2 - Before:\n",
      "A wonderful little production. <br /><br />The filming technique is very unassuming- very old-time-BBC fashion and gives a comforting, and sometimes discomforting, sense of realism to the entire piece. <br /><br />The actors are extremely well chosen- Michael Sheen not only \"has got all the polari\" but he has all the voices down pat too! You can truly see the seamless editing guided by the references to Williams' diary entries, not only is it well worth the watching but it is a terrificly written and performed piece. A masterful production about one of the great master's of comedy and his life. <br /><br />The realism really comes home with the little things: the fantasy of the guard which, rather than use the traditional 'dream' techniques remains solid then disappears. It plays on our knowledge and our senses, particularly with the scenes concerning Orton and Halliwell and the sets (particularly of their flat with Halliwell's murals decorating every surface) are terribly well done.\n",
      "\n",
      "🔸 Review 2 - After Stemming:\n",
      "a wonder littl product . < br / > < br / > the film techniqu is veri unassuming- veri old-time-bbc fashion and give a comfort , and sometim discomfort , sens of realism to the entir piec . < br / > < br / > the actor are extrem well chosen- michael sheen not onli `` ha got all the polari '' but he ha all the voic down pat too ! you can truli see the seamless edit guid by the refer to william ' diari entri , not onli is it well worth the watch but it is a terrificli written and perform piec . a master product about one of the great master 's of comedi and hi life . < br / > < br / > the realism realli come home with the littl thing : the fantasi of the guard which , rather than use the tradit 'dream ' techniqu remain solid then disappear . it play on our knowledg and our sens , particularli with the scene concern orton and halliwel and the set ( particularli of their flat with halliwel 's mural decor everi surfac ) are terribl well done .\n",
      "\n",
      "====================================================================================================\n",
      "\n",
      "🔹 Review 3 - Before:\n",
      "I thought this was a wonderful way to spend time on a too hot summer weekend, sitting in the air conditioned theater and watching a light-hearted comedy. The plot is simplistic, but the dialogue is witty and the characters are likable (even the well bread suspected serial killer). While some may be disappointed when they realize this is not Match Point 2: Risk Addiction, I thought it was proof that Woody Allen is still fully in control of the style many of us have grown to love.<br /><br />This was the most I'd laughed at one of Woody's comedies in years (dare I say a decade?). While I've never been impressed with Scarlet Johanson, in this she managed to tone down her \"sexy\" image and jumped right into a average, but spirited young woman.<br /><br />This may not be the crown jewel of his career, but it was wittier than \"Devil Wears Prada\" and more interesting than \"Superman\" a great comedy to go see with friends.\n",
      "\n",
      "🔸 Review 3 - After Stemming:\n",
      "i thought thi wa a wonder way to spend time on a too hot summer weekend , sit in the air condit theater and watch a light-heart comedi . the plot is simplist , but the dialogu is witti and the charact are likabl ( even the well bread suspect serial killer ) . while some may be disappoint when they realiz thi is not match point 2 : risk addict , i thought it wa proof that woodi allen is still fulli in control of the style mani of us have grown to love. < br / > < br / > thi wa the most i 'd laugh at one of woodi 's comedi in year ( dare i say a decad ? ) . while i 've never been impress with scarlet johanson , in thi she manag to tone down her `` sexi '' imag and jump right into a averag , but spirit young woman. < br / > < br / > thi may not be the crown jewel of hi career , but it wa wittier than `` devil wear prada '' and more interest than `` superman '' a great comedi to go see with friend .\n",
      "\n",
      "====================================================================================================\n",
      "\n",
      "🔹 Review 4 - Before:\n",
      "Basically there's a family where a little boy (Jake) thinks there's a zombie in his closet & his parents are fighting all the time.<br /><br />This movie is slower than a soap opera... and suddenly, Jake decides to become Rambo and kill the zombie.<br /><br />OK, first of all when you're going to make a film you must Decide if its a thriller or a drama! As a drama the movie is watchable. Parents are divorcing & arguing like in real life. And then we have Jake with his closet which totally ruins all the film! I expected to see a BOOGEYMAN similar movie, and instead i watched a drama with some meaningless thriller spots.<br /><br />3 out of 10 just for the well playing parents & descent dialogs. As for the shots with Jake: just ignore them.\n",
      "\n",
      "🔸 Review 4 - After Stemming:\n",
      "basic there 's a famili where a littl boy ( jake ) think there 's a zombi in hi closet & hi parent are fight all the time. < br / > < br / > thi movi is slower than a soap opera ... and suddenli , jake decid to becom rambo and kill the zombie. < br / > < br / > ok , first of all when you 're go to make a film you must decid if it a thriller or a drama ! as a drama the movi is watchabl . parent are divorc & argu like in real life . and then we have jake with hi closet which total ruin all the film ! i expect to see a boogeyman similar movi , and instead i watch a drama with some meaningless thriller spots. < br / > < br / > 3 out of 10 just for the well play parent & descent dialog . as for the shot with jake : just ignor them .\n",
      "\n",
      "====================================================================================================\n",
      "\n",
      "🔹 Review 5 - Before:\n",
      "Petter Mattei's \"Love in the Time of Money\" is a visually stunning film to watch. Mr. Mattei offers us a vivid portrait about human relations. This is a movie that seems to be telling us what money, power and success do to people in the different situations we encounter. <br /><br />This being a variation on the Arthur Schnitzler's play about the same theme, the director transfers the action to the present time New York where all these different characters meet and connect. Each one is connected in one way, or another to the next person, but no one seems to know the previous point of contact. Stylishly, the film has a sophisticated luxurious look. We are taken to see how these people live and the world they live in their own habitat.<br /><br />The only thing one gets out of all these souls in the picture is the different stages of loneliness each one inhabits. A big city is not exactly the best place in which human relations find sincere fulfillment, as one discerns is the case with most of the people we encounter.<br /><br />The acting is good under Mr. Mattei's direction. Steve Buscemi, Rosario Dawson, Carol Kane, Michael Imperioli, Adrian Grenier, and the rest of the talented cast, make these characters come alive.<br /><br />We wish Mr. Mattei good luck and await anxiously for his next work.\n",
      "\n",
      "🔸 Review 5 - After Stemming:\n",
      "petter mattei 's `` love in the time of money '' is a visual stun film to watch . mr. mattei offer us a vivid portrait about human relat . thi is a movi that seem to be tell us what money , power and success do to peopl in the differ situat we encount . < br / > < br / > thi be a variat on the arthur schnitzler 's play about the same theme , the director transfer the action to the present time new york where all these differ charact meet and connect . each one is connect in one way , or anoth to the next person , but no one seem to know the previou point of contact . stylishli , the film ha a sophist luxuri look . we are taken to see how these peopl live and the world they live in their own habitat. < br / > < br / > the onli thing one get out of all these soul in the pictur is the differ stage of loneli each one inhabit . a big citi is not exactli the best place in which human relat find sincer fulfil , as one discern is the case with most of the peopl we encounter. < br / > < br / > the act is good under mr. mattei 's direct . steve buscemi , rosario dawson , carol kane , michael imperioli , adrian grenier , and the rest of the talent cast , make these charact come alive. < br / > < br / > we wish mr. mattei good luck and await anxious for hi next work .\n",
      "\n",
      "====================================================================================================\n"
     ]
    }
   ],
   "source": [
    "stemmer = PorterStemmer()\n",
    "\n",
    "for i in range(5):\n",
    "    original = df['review'][i]\n",
    "    \n",
    "    # Tokenize\n",
    "    tokens = word_tokenize(original)\n",
    "    \n",
    "    # Apply stemming\n",
    "    stemmed_tokens = [stemmer.stem(word) for word in tokens]\n",
    "    stemmed_review = ' '.join(stemmed_tokens)\n",
    "    \n",
    "    # Show before and after\n",
    "    print(f\"\\n🔹 Review {i+1} - Before:\\n{original}\\n\")\n",
    "    print(f\"🔸 Review {i+1} - After Stemming:\\n{stemmed_review}\\n\")\n",
    "    print(\"=\"*100)"
   ]
  },
  {
   "cell_type": "markdown",
   "id": "791dd6d3-aa9d-4e46-a1c1-640941f26185",
   "metadata": {},
   "source": [
    "### Q9. Apply Lemmatization using SpaCy or WordNetLemmatizer.\n",
    "- Show differences in results compared to stemming.\n",
    "- Use 5–10 common words as examples."
   ]
  },
  {
   "cell_type": "code",
   "execution_count": 19,
   "id": "e589fd6b-7b34-4569-b9d4-212f4845d112",
   "metadata": {},
   "outputs": [
    {
     "name": "stdout",
     "output_type": "stream",
     "text": [
      "Word        Stemmed        Lemmatized     \n",
      "------------------------------------------\n",
      "running     run            running        \n",
      "better      better         better         \n",
      "wolves      wolv           wolf           \n",
      "eating      eat            eating         \n",
      "acting      act            acting         \n",
      "studies     studi          study          \n",
      "flies       fli            fly            \n",
      "happier     happier        happier        \n",
      "fought      fought         fought         \n",
      "geese       gees           goose          \n"
     ]
    }
   ],
   "source": [
    "stemmer = PorterStemmer()\n",
    "lemmatizer = WordNetLemmatizer()\n",
    "\n",
    "words = [\"running\", \"better\", \"wolves\", \"eating\", \"acting\", \"studies\", \"flies\", \"happier\", \"fought\", \"geese\"]\n",
    "\n",
    "print(f\"{'Word':<12}{'Stemmed':<15}{'Lemmatized':<15}\")\n",
    "print(\"-\" * 42)\n",
    "\n",
    "for word in words:\n",
    "    stemmed = stemmer.stem(word)\n",
    "    lemmatized = lemmatizer.lemmatize(word)\n",
    "    print(f\"{word:<12}{stemmed:<15}{lemmatized:<15}\")"
   ]
  },
  {
   "cell_type": "markdown",
   "id": "266c96d2-a206-4d05-9272-7f6f8ebe92e0",
   "metadata": {},
   "source": [
    "### Q10. BONUS (Optional but Recommended):\n",
    "- Create a function preprocess_text(text) which combines all the steps above and applies to the entire dataset. Then, display the first 5 processed reviews."
   ]
  },
  {
   "cell_type": "code",
   "execution_count": 20,
   "id": "bad184df-9838-47e7-8e56-787cf0dcc5b6",
   "metadata": {},
   "outputs": [
    {
     "name": "stdout",
     "output_type": "stream",
     "text": [
      "                                              review  \\\n",
      "0  One of the other reviewers has mentioned that ...   \n",
      "1  A wonderful little production. <br /><br />The...   \n",
      "2  I thought this was a wonderful way to spend ti...   \n",
      "3  Basically there's a family where a little boy ...   \n",
      "4  Petter Mattei's \"Love in the Time of Money\" is...   \n",
      "\n",
      "                                        clean_review  \n",
      "0  one reviewer mentioned watching oz episode you...  \n",
      "1  wonderful little production filming technique ...  \n",
      "2  thought wonderful way spend time hot summer we...  \n",
      "3  basically there family little boy jake think t...  \n",
      "4  petter matteis love time money visually stunni...  \n"
     ]
    }
   ],
   "source": [
    "stop_words = set(stopwords.words('english'))\n",
    "lemmatizer = WordNetLemmatizer()\n",
    "\n",
    "def preprocess_text(text):\n",
    "    # 1. Lowercase\n",
    "    text = text.lower()\n",
    "    \n",
    "    # 2. Remove HTML tags\n",
    "    text = re.sub(r'<.*?>', '', text)\n",
    "    \n",
    "    # 3. Remove punctuation and digits\n",
    "    text = re.sub(r'[^\\w\\s]', '', text)     # Remove punctuation\n",
    "    text = re.sub(r'\\d+', '', text)         # Remove numbers\n",
    "    \n",
    "    # 4. Tokenization\n",
    "    tokens = word_tokenize(text)\n",
    "    \n",
    "    # 5. Remove stopwords\n",
    "    tokens = [word for word in tokens if word not in stop_words]\n",
    "    \n",
    "    # 6. Lemmatization\n",
    "    tokens = [lemmatizer.lemmatize(word) for word in tokens]\n",
    "    \n",
    "    # 7. Reconstruct cleaned text\n",
    "    return ' '.join(tokens)\n",
    "\n",
    "df['clean_review'] = df['review'].apply(preprocess_text)\n",
    "print(df[['review', 'clean_review']].head())"
   ]
  },
  {
   "cell_type": "code",
   "execution_count": null,
   "id": "19b1325c-5bc1-4996-a87c-39dd3c6fcd9b",
   "metadata": {},
   "outputs": [],
   "source": []
  }
 ],
 "metadata": {
  "kernelspec": {
   "display_name": "Python 3 (ipykernel)",
   "language": "python",
   "name": "python3"
  },
  "language_info": {
   "codemirror_mode": {
    "name": "ipython",
    "version": 3
   },
   "file_extension": ".py",
   "mimetype": "text/x-python",
   "name": "python",
   "nbconvert_exporter": "python",
   "pygments_lexer": "ipython3",
   "version": "3.12.7"
  }
 },
 "nbformat": 4,
 "nbformat_minor": 5
}
